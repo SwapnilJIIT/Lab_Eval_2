{
 "cells": [
  {
   "cell_type": "code",
   "execution_count": 24,
   "id": "98bb9039",
   "metadata": {},
   "outputs": [
    {
     "name": "stdout",
     "output_type": "stream",
     "text": [
      "Defaulting to user installation because normal site-packages is not writeable\n",
      "Requirement already satisfied: pymongo in c:\\users\\22103200\\appdata\\roaming\\python\\python311\\site-packages (4.10.1)\n",
      "Requirement already satisfied: dnspython<3.0.0,>=1.16.0 in c:\\users\\22103200\\appdata\\roaming\\python\\python311\\site-packages (from pymongo) (2.7.0)\n"
     ]
    }
   ],
   "source": [
    "!pip install pymongo"
   ]
  },
  {
   "cell_type": "code",
   "execution_count": 71,
   "id": "f2a06395",
   "metadata": {},
   "outputs": [
    {
     "name": "stdout",
     "output_type": "stream",
     "text": [
      "11                                THOMAS HOSPITAL\n",
      "13                               MOBILE INFIRMARY\n",
      "20                    ST ELIAS SPECIALTY HOSPITAL\n",
      "64      BAPTIST HEALTH MEDICAL CENTER-DREW COUNTY\n",
      "69                  NEA BAPTIST MEMORIAL HOSPITAL\n",
      "                          ...                    \n",
      "1113                   CONFLUENCE HEALTH HOSPITAL\n",
      "1120            MULTICARE GOOD SAMARITAN HOSPITAL\n",
      "1128                PLEASANT VALLEY HOSPITAL, INC\n",
      "1139                    ASCENSION- MERCY HOSPITAL\n",
      "1155         CHEYENNE REGIONAL MEDICAL CENTER ARU\n",
      "Name: Provider Name, Length: 128, dtype: object\n",
      "0     ENCOMPASS HEALTH LAKESHORE REHABILITATION HOSP...\n",
      "12                             GRANDVIEW MEDICAL CENTER\n",
      "Name: Provider Name, dtype: object\n",
      "21         ENCOMPASS HEALTH REHAB HOSPITAL OF SCOTTSDALE\n",
      "22     ENCOMPASS HEALTH REHABILITATION INSTITUTE OF T...\n",
      "23     ENCOMPASS HEALTH REHABILITATION HOSPITAL OF NO...\n",
      "24     ENCOMPASS HEALTH VALLEY OF THE SUN REHAB HOSPITAL\n",
      "25     YUMA REHABILITATION HOSPITAL,AN AFFILIATION OF...\n",
      "26      MOUNTAIN VALLEY REGIONAL REHABILITATION HOSPITAL\n",
      "27     ENCOMPASS HEALTH REHABILITATION HOSPITAL OF EA...\n",
      "28                         GLOBALREHAB - SCOTTSDALE, LLC\n",
      "29        PAM HEALTH REHABILITATION HOSPITAL OF SURPRISE\n",
      "30     DIGNITY HEALTH EAST VALLEY REHABILITATION HOSP...\n",
      "31           REHABILITATION HOSPITAL OF NORTHERN ARIZONA\n",
      "32                   BANNER REHABILITATION HOSPITAL-WEST\n",
      "33           REUNION REHABILITATION HOSPITAL PHOENIX LLC\n",
      "34     DIGNITY HEALTH EAST VALLEY REHABILITATION HOSP...\n",
      "35            REUNION REHABILITATION HOSPITAL PEORIA LLC\n",
      "36          CLEARSKY REHABILITATION HOSPITAL OF AVONDALE\n",
      "37                        CARONDELET ST. MARY'S HOSPITAL\n",
      "38       CARONDELET ST JOSEPH'S INPATIENT REHABILITATION\n",
      "39                                       ST JOSEPHS HOSP\n",
      "40                                        ABRAZO CENTRAL\n",
      "41                                 SCOTTSDALE HEALTHCARE\n",
      "42                       KINGMAN REGIONAL MEDICAL CENTER\n",
      "43                          NORTHWEST MEDICAL CENTER/CHS\n",
      "44                          NORTHWEST MED CTR ORO VALLEY\n",
      "45                            VALLEY VIEW MEDICAL CENTER\n",
      "629       ENCOMPASS HEALTH REHABILITATION HOSPITAL OF LV\n",
      "630    ENCOMPASS HEALTH REHABILITATION HOSPITAL OF HE...\n",
      "631     ENCOMPASS HEALTH REHAB HOSPITAL OF DESERT CANYON\n",
      "632      PAM REHABILITATION HOSPITAL OF CENTENNIAL HILLS\n",
      "633               DIGNITY HEALTH REHABILITATION HOSPITAL\n",
      "634                      SUNRISE HOSPITAL MEDICAL CENTER\n",
      "635                                RANCHO REHABILITATION\n",
      "636                       NORTHERN NEVADA MEDICAL CENTER\n",
      "637                                MOUNTAINVIEW HOSPITAL\n",
      "638                         SPRING VALLEY MEDICAL CENTER\n",
      "639                       RENOWN REHABILITATION HOSPITAL\n",
      "640          KINDRED HOSPITAL LAS VEGAS- FLAMINGO CAMPUS\n",
      "659                     NEW MEXICO REHABILITATION CENTER\n",
      "660    ENCOMPASS HEALTH REHABILITATION HOSPITAL OF AL...\n",
      "661                 LOVELACE UNM REHABILITATION HOSPITAL\n",
      "662    REHABILITATION HOSPITAL OF SOUTHERN NEW MEXICO...\n",
      "663    CLEARSKY REHABILITATION HOSPITAL OF RIO RANCHO...\n",
      "664                                  ST VINCENT HOSPITAL\n",
      "665                 SAN JUAN REGIONAL MEDICAL CENTER INC\n",
      "666                             ST JOSEPH MEDICAL CENTER\n",
      "667                              CARLSBAD MEDICAL CENTER\n",
      "668                          LEA REGIONAL MEDICAL CENTER\n",
      "669                MOUNTAIN VIEW REGIONAL MEDICAL CENTER\n",
      "Name: Provider Name, dtype: object\n",
      "For Profit : 509\n",
      "Non Profit : 595\n"
     ]
    }
   ],
   "source": [
    "import pandas as pd\n",
    "#from pymongo import MongoClient\n",
    "\n",
    "\n",
    "df = pd.read_csv('Inpatient_Rehabilitation_Facility.csv')\n",
    "\n",
    "#print(df[df['Ownership Type']!=\"For profit\"])\n",
    "\n",
    "temp_df = ''\n",
    "\n",
    "\n",
    "def create_mongodb_schema():\n",
    "    client = MongoClient(\"mongodb://localhost:27017/\")\n",
    "    db = client['Rehabilition_Facility_db']\n",
    "    collection = db['inpatient_rehab']\n",
    "    data = df.to_dict(\"records\")\n",
    "    collection.insert_many(data)\n",
    "    print(\"Data is successffully inserted into MongoDB...\")\n",
    "    \n",
    "\n",
    "def load_from_mongo():\n",
    "    data = list(collecton.find({}))\n",
    "    temp_df = pd.DataFrame(data)\n",
    "    \n",
    "\n",
    "def fn1():\n",
    "    new_df = df[(df['Ownership Type'] == 'Non-profit') & (pd.to_datetime(df['Certification Date'], errors='coerce') > '2011-10-01')]\n",
    "    if len(new_df):\n",
    "        print(new_df['Provider Name'])\n",
    "    else :\n",
    "        print(\"OOpss... No providers found..\")\n",
    "\n",
    "def fn2():\n",
    "    new_df = df[(df['City/Town'] == 'BIRMINGHAM') & (df['Ownership Type'] == 'For profit')]\n",
    "    if len(new_df):\n",
    "        print(new_df['Provider Name'])\n",
    "    else :\n",
    "        print(\"OOpss... No providers found..\")\n",
    "\n",
    "def fn3():\n",
    "    new_df = df[(df['ZIP Code'] >= 85000) & (df['ZIP Code'] <= 90000)]\n",
    "    if len(new_df):\n",
    "        print(new_df['Provider Name'])\n",
    "    else :\n",
    "        print(\"OOpss... No providers found..\")\n",
    "\n",
    "\n",
    "def fn4():\n",
    "    for_cnt = len(df[df['Ownership Type'] == 'For profit'])\n",
    "    non_cnt = len(df[df['Ownership Type'] == 'Non-profit'])\n",
    "    print(f\"For Profit : {for_cnt}\")\n",
    "    print(f\"Non Profit : {non_cnt}\")\n",
    "\n",
    "\n",
    "#create_mongo_schema()\n",
    "#load_from_mongo()\n",
    "fn1()\n",
    "fn2()\n",
    "fn3()\n",
    "fn4()\n"
   ]
  },
  {
   "cell_type": "code",
   "execution_count": 21,
   "id": "3168eb13",
   "metadata": {},
   "outputs": [
    {
     "name": "stdout",
     "output_type": "stream",
     "text": [
      "YES\n",
      "YES\n",
      "YES\n"
     ]
    }
   ],
   "source": []
  },
  {
   "cell_type": "code",
   "execution_count": null,
   "id": "dc9aed67",
   "metadata": {},
   "outputs": [],
   "source": []
  }
 ],
 "metadata": {
  "kernelspec": {
   "display_name": "Python 3 (ipykernel)",
   "language": "python",
   "name": "python3"
  },
  "language_info": {
   "codemirror_mode": {
    "name": "ipython",
    "version": 3
   },
   "file_extension": ".py",
   "mimetype": "text/x-python",
   "name": "python",
   "nbconvert_exporter": "python",
   "pygments_lexer": "ipython3",
   "version": "3.11.5"
  }
 },
 "nbformat": 4,
 "nbformat_minor": 5
}
